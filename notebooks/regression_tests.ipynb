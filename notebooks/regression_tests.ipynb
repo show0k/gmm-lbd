{
 "cells": [
  {
   "cell_type": "code",
   "execution_count": 1,
   "metadata": {
    "collapsed": false
   },
   "outputs": [],
   "source": [
    "import matplotlib.pyplot as plt\n",
    "import os\n",
    "import numpy as np\n",
    "import scipy\n",
    "import itertools\n",
    "from scipy import linalg\n",
    "import matplotlib as mpl\n",
    "\n",
    "from sklearn import mixture\n",
    "import gmr\n",
    "from gmr.utils import check_random_state\n",
    "from gmm_lbd import *\n",
    "\n",
    "\n"
   ]
  },
  {
   "cell_type": "code",
   "execution_count": 2,
   "metadata": {
    "collapsed": true
   },
   "outputs": [],
   "source": [
    "from matplotlib.patches import Ellipse\n",
    "from itertools import cycle\n",
    "colors = ['r','v','b']\n",
    "def plot_ellipses(ax,gmm,colors=None,X=None):\n",
    "    if colors is not None:\n",
    "        colors = cycle(colors)\n",
    "    else :\n",
    "        colors = cycle(['r', 'g', 'b', 'c', 'm'])\n",
    "    for factor in np.linspace(0.5, 4.0, 8):\n",
    "        for i, (mean, covar, color) in enumerate(zip(gmm.means_, gmm._get_covars(), color_iter)):\n",
    "            \n",
    "            #if not np.any(Y_ == i):\n",
    "            #    continue\n",
    "            #plt.scatter(X[Y_ == i, 0], X[Y_ == i, 1], .8, color=color)\n",
    "            ## valeur propre, vecteur propre\n",
    "            v, w = linalg.eigh(covar)\n",
    "            u = w[0] / linalg.norm(w[0])\n",
    "            angle = np.arctan(u[1] / u[0])\n",
    "            angle = 180 * angle / np.pi  # convert to degrees\n",
    "            width, height = factor * np.sqrt(v)\n",
    "                   \n",
    "            ell = Ellipse(xy=mean, width=width, height=height,\n",
    "                          angle=angle)\n",
    "            ell.set_alpha(0.25)\n",
    "            if colors is not None:\n",
    "                ell.set_color(next(colors))\n",
    "            ax.add_artist(ell)\n"
   ]
  },
  {
   "cell_type": "code",
   "execution_count": 3,
   "metadata": {
    "collapsed": false
   },
   "outputs": [
    {
     "data": {
      "text/plain": [
       "<matplotlib.collections.PathCollection at 0x7fb3dea314d0>"
      ]
     },
     "execution_count": 3,
     "metadata": {},
     "output_type": "execute_result"
    }
   ],
   "source": [
    "\n",
    "# Number of samples per component\n",
    "n_samples = 800\n",
    "\n",
    "# Generate random sample following a sine curve\n",
    "np.random.seed(0)\n",
    "X = np.zeros((n_samples, 2))\n",
    "\n",
    "step = 4 * np.pi / n_samples\n",
    "\n",
    "for i in xrange(X.shape[0]):\n",
    "    x = i * step - 6\n",
    "    X[i, 0] = x + np.random.normal(0, 0.1)\n",
    "    X[i, 1] = 3 * (np.sin(x) + np.random.normal(0, .2))\n",
    "    \n",
    "plt.scatter(X[:,0],X[:,1])"
   ]
  },
  {
   "cell_type": "code",
   "execution_count": 4,
   "metadata": {
    "collapsed": false
   },
   "outputs": [
    {
     "data": {
      "text/plain": [
       "<matplotlib.collections.PathCollection at 0x7fb3f242b150>"
      ]
     },
     "execution_count": 4,
     "metadata": {},
     "output_type": "execute_result"
    }
   ],
   "source": [
    "# Essay woth multiple dimension\n",
    "n_samples = 300\n",
    "np.random.seed(2)\n",
    "Y = np.zeros((n_samples, 3))\n",
    "Y [:,0] = np.linspace(1,10,n_samples)\n",
    "step = 4 * np.pi / n_samples\n",
    "for i in xrange(Y.shape[0]):   \n",
    "    Y[i, 1] = np.sin(Y[i,0])\n",
    "    Y[i, 2] = np.sin(Y[i,0]) + np.random.normal(0, .2)\n",
    "\n",
    "    \n",
    "plt.scatter(Y[:,0],Y[:,1])\n",
    "plt.scatter(Y[:,0],Y[:,2])"
   ]
  },
  {
   "cell_type": "code",
   "execution_count": 5,
   "metadata": {
    "collapsed": false
   },
   "outputs": [],
   "source": [
    "manager=GmmManager()\n",
    "manager.add_dataset(Y)\n",
    "manager.gen_gmm('0',n_components_range=[3])\n",
    "gmm = manager.gmms['0']"
   ]
  },
  {
   "cell_type": "code",
   "execution_count": 6,
   "metadata": {
    "collapsed": false
   },
   "outputs": [
    {
     "data": {
      "text/plain": [
       "array([[ 1.7894657 ,  0.97749608,  1.0409079 ],\n",
       "       [ 3.5305713 , -0.22659315, -0.28657256],\n",
       "       [ 9.49707199, -0.09144012,  0.09407005],\n",
       "       [ 4.7976711 , -1.39492532, -1.49460752],\n",
       "       [ 3.95481403, -0.862308  , -0.45215446],\n",
       "       [ 6.3370747 , -0.09563875, -0.0411858 ],\n",
       "       [ 7.0601388 ,  0.56645509,  0.65666493],\n",
       "       [ 4.2838346 , -0.7123486 , -0.35845897],\n",
       "       [ 9.10671322,  0.25605143,  0.16492098],\n",
       "       [ 5.49778994, -1.63425202, -1.70644596]])"
      ]
     },
     "execution_count": 6,
     "metadata": {},
     "output_type": "execute_result"
    }
   ],
   "source": [
    "gmm.means_\n",
    "gmm.sample(10)"
   ]
  },
  {
   "cell_type": "code",
   "execution_count": 7,
   "metadata": {
    "collapsed": false
   },
   "outputs": [
    {
     "data": {
      "text/plain": [
       "([], <a list of 0 Text yticklabel objects>)"
      ]
     },
     "execution_count": 7,
     "metadata": {},
     "output_type": "execute_result"
    }
   ],
   "source": [
    "color_iter = itertools.cycle(['r', 'g', 'b', 'c', 'm'])\n",
    "\n",
    "title = 'Expectation-maximization'\n",
    "clf = mixture.GMM(n_components=5, covariance_type='full', n_iter=100)\n",
    "clf.fit(X)\n",
    "Y_ = clf.predict(X)\n",
    "splot = plt.subplot(1,1,1)\n",
    "\n",
    "for i, (mean, covar, color) in enumerate(zip(\n",
    "            clf.means_, clf._get_covars(), color_iter)):\n",
    "        ## valeur propre, vecteur propre\n",
    "        v, w = linalg.eigh(covar)\n",
    "        u = w[0] / linalg.norm(w[0])\n",
    "        # as the DP will not use every component it has access to\n",
    "        # unless it needs it, we shouldn't plot the redundant\n",
    "        # components.\n",
    "        if not np.any(Y_ == i):\n",
    "            continue\n",
    "        plt.scatter(X[Y_ == i, 0], X[Y_ == i, 1], .8, color=color)\n",
    "\n",
    "        # Plot an ellipse to show the Gaussian component\n",
    "        angle = np.arctan(u[1] / u[0])\n",
    "        angle = 180 * angle / np.pi  # convert to degrees\n",
    "        ell = mpl.patches.Ellipse(mean, 2*v[0], v[1], 180 + angle, color=color)\n",
    "        ell.set_clip_box(splot.bbox)\n",
    "        ell.set_alpha(0.5)\n",
    "        splot.add_artist(ell)\n",
    "\n",
    "plt.xlim(-6, 4 * np.pi - 6)\n",
    "plt.ylim(-5, 5)\n",
    "plt.title(title)\n",
    "plt.xticks(())\n",
    "plt.yticks(())\n",
    "\n",
    " "
   ]
  },
  {
   "cell_type": "code",
   "execution_count": 8,
   "metadata": {
    "collapsed": false
   },
   "outputs": [
    {
     "data": {
      "text/plain": [
       "<matplotlib.collections.PathCollection at 0x7fb3de9dfc10>"
      ]
     },
     "execution_count": 8,
     "metadata": {},
     "output_type": "execute_result"
    }
   ],
   "source": [
    "sample = clf.sample(3000)\n",
    "plt.scatter(sample[:, 0], sample[:, 1], color='red')\n",
    "plt.scatter(X[:, 0], X[:, 1],0.3)\n"
   ]
  },
  {
   "cell_type": "code",
   "execution_count": 9,
   "metadata": {
    "collapsed": false
   },
   "outputs": [
    {
     "name": "stdout",
     "output_type": "stream",
     "text": [
      "[[-5.82359477  1.07834082]\n",
      " [-5.88641824  2.2279241 ]\n",
      " [-5.78182827  0.34194518]\n",
      " ..., \n",
      " [ 6.60735983  1.32141881]\n",
      " [ 6.44256349  1.59464486]\n",
      " [ 6.41261958  0.47134925]]\n"
     ]
    },
    {
     "ename": "ValueError",
     "evalue": "Found array with 0 sample(s) (shape=(0, 2)) while a minimum of 1 is required.",
     "output_type": "error",
     "traceback": [
      "\u001b[1;31m---------------------------------------------------------------------------\u001b[0m",
      "\u001b[1;31mValueError\u001b[0m                                Traceback (most recent call last)",
      "\u001b[1;32m<ipython-input-9-0062dbae768c>\u001b[0m in \u001b[0;36m<module>\u001b[1;34m()\u001b[0m\n\u001b[0;32m      3\u001b[0m \u001b[1;32mprint\u001b[0m \u001b[0mdatas\u001b[0m\u001b[1;33m.\u001b[0m\u001b[0m_X\u001b[0m\u001b[1;33m\u001b[0m\u001b[0m\n\u001b[0;32m      4\u001b[0m \u001b[1;33m\u001b[0m\u001b[0m\n\u001b[1;32m----> 5\u001b[1;33m \u001b[0mdatas\u001b[0m\u001b[1;33m.\u001b[0m\u001b[0mgen_gmm\u001b[0m\u001b[1;33m(\u001b[0m\u001b[1;33m)\u001b[0m\u001b[1;31m#gmm_type='custom')\u001b[0m\u001b[1;33m\u001b[0m\u001b[0m\n\u001b[0m",
      "\u001b[1;32m/home/theo/Documents/code/gmm-lbd/gmm_lbd/lbd.py\u001b[0m in \u001b[0;36mgen_gmm\u001b[1;34m(self, gmm_type)\u001b[0m\n\u001b[0;32m    298\u001b[0m                 \u001b[1;32melse\u001b[0m\u001b[1;33m:\u001b[0m\u001b[1;33m\u001b[0m\u001b[0m\n\u001b[0;32m    299\u001b[0m                     \u001b[0mgmm\u001b[0m \u001b[1;33m=\u001b[0m \u001b[0mLbdGMM\u001b[0m\u001b[1;33m(\u001b[0m\u001b[0mn_components\u001b[0m\u001b[1;33m=\u001b[0m\u001b[0mn_components\u001b[0m\u001b[1;33m,\u001b[0m \u001b[0mcovariance_type\u001b[0m\u001b[1;33m=\u001b[0m\u001b[0mcv_type\u001b[0m\u001b[1;33m)\u001b[0m\u001b[1;33m\u001b[0m\u001b[0m\n\u001b[1;32m--> 300\u001b[1;33m                 \u001b[0mgmm\u001b[0m\u001b[1;33m.\u001b[0m\u001b[0mfit\u001b[0m\u001b[1;33m(\u001b[0m\u001b[0mX\u001b[0m\u001b[1;33m)\u001b[0m\u001b[1;33m\u001b[0m\u001b[0m\n\u001b[0m\u001b[0;32m    301\u001b[0m                 \u001b[0mself\u001b[0m\u001b[1;33m.\u001b[0m\u001b[0mbics\u001b[0m\u001b[1;33m.\u001b[0m\u001b[0mappend\u001b[0m\u001b[1;33m(\u001b[0m\u001b[0mgmm\u001b[0m\u001b[1;33m.\u001b[0m\u001b[0mbic\u001b[0m\u001b[1;33m(\u001b[0m\u001b[0mX\u001b[0m\u001b[1;33m)\u001b[0m\u001b[1;33m)\u001b[0m\u001b[1;33m\u001b[0m\u001b[0m\n\u001b[0;32m    302\u001b[0m                 \u001b[1;32mif\u001b[0m \u001b[0mself\u001b[0m\u001b[1;33m.\u001b[0m\u001b[0mbics\u001b[0m\u001b[1;33m[\u001b[0m\u001b[1;33m-\u001b[0m\u001b[1;36m1\u001b[0m\u001b[1;33m]\u001b[0m \u001b[1;33m<\u001b[0m \u001b[0mlowest_bic\u001b[0m\u001b[1;33m:\u001b[0m\u001b[1;33m\u001b[0m\u001b[0m\n",
      "\u001b[1;32m/home/theo/miniconda/lib/python2.7/site-packages/sklearn/mixture/gmm.pyc\u001b[0m in \u001b[0;36mfit\u001b[1;34m(self, X, y)\u001b[0m\n\u001b[0;32m    429\u001b[0m         \"\"\"\n\u001b[0;32m    430\u001b[0m         \u001b[1;31m# initialization step\u001b[0m\u001b[1;33m\u001b[0m\u001b[1;33m\u001b[0m\u001b[0m\n\u001b[1;32m--> 431\u001b[1;33m         \u001b[0mX\u001b[0m \u001b[1;33m=\u001b[0m \u001b[0mcheck_array\u001b[0m\u001b[1;33m(\u001b[0m\u001b[0mX\u001b[0m\u001b[1;33m,\u001b[0m \u001b[0mdtype\u001b[0m\u001b[1;33m=\u001b[0m\u001b[0mnp\u001b[0m\u001b[1;33m.\u001b[0m\u001b[0mfloat64\u001b[0m\u001b[1;33m)\u001b[0m\u001b[1;33m\u001b[0m\u001b[0m\n\u001b[0m\u001b[0;32m    432\u001b[0m         \u001b[1;32mif\u001b[0m \u001b[0mX\u001b[0m\u001b[1;33m.\u001b[0m\u001b[0mshape\u001b[0m\u001b[1;33m[\u001b[0m\u001b[1;36m0\u001b[0m\u001b[1;33m]\u001b[0m \u001b[1;33m<\u001b[0m \u001b[0mself\u001b[0m\u001b[1;33m.\u001b[0m\u001b[0mn_components\u001b[0m\u001b[1;33m:\u001b[0m\u001b[1;33m\u001b[0m\u001b[0m\n\u001b[0;32m    433\u001b[0m             raise ValueError(\n",
      "\u001b[1;32m/home/theo/miniconda/lib/python2.7/site-packages/sklearn/utils/validation.pyc\u001b[0m in \u001b[0;36mcheck_array\u001b[1;34m(array, accept_sparse, dtype, order, copy, force_all_finite, ensure_2d, allow_nd, ensure_min_samples, ensure_min_features)\u001b[0m\n\u001b[0;32m    358\u001b[0m             raise ValueError(\"Found array with %d sample(s) (shape=%s) while a\"\n\u001b[0;32m    359\u001b[0m                              \u001b[1;34m\" minimum of %d is required.\"\u001b[0m\u001b[1;33m\u001b[0m\u001b[0m\n\u001b[1;32m--> 360\u001b[1;33m                              % (n_samples, shape_repr, ensure_min_samples))\n\u001b[0m\u001b[0;32m    361\u001b[0m \u001b[1;33m\u001b[0m\u001b[0m\n\u001b[0;32m    362\u001b[0m     \u001b[1;32mif\u001b[0m \u001b[0mensure_min_features\u001b[0m \u001b[1;33m>\u001b[0m \u001b[1;36m0\u001b[0m \u001b[1;32mand\u001b[0m \u001b[0marray\u001b[0m\u001b[1;33m.\u001b[0m\u001b[0mndim\u001b[0m \u001b[1;33m==\u001b[0m \u001b[1;36m2\u001b[0m\u001b[1;33m:\u001b[0m\u001b[1;33m\u001b[0m\u001b[0m\n",
      "\u001b[1;31mValueError\u001b[0m: Found array with 0 sample(s) (shape=(0, 2)) while a minimum of 1 is required."
     ]
    }
   ],
   "source": [
    "datas = SanitizeRecordsForGmm()\n",
    "datas._X = X\n",
    "print datas._X\n",
    "\n",
    "datas.gen_gmm()#gmm_type='custom') "
   ]
  },
  {
   "cell_type": "code",
   "execution_count": null,
   "metadata": {
    "collapsed": false
   },
   "outputs": [],
   "source": [
    "\n",
    "plt.figure(figsize=(15, 5))\n",
    "plot_ellipses(plt.gca(), clf)\n",
    "plt.scatter(X[:, 0], X[:, 1])\n",
    "\n",
    "        "
   ]
  },
  {
   "cell_type": "code",
   "execution_count": null,
   "metadata": {
    "collapsed": false,
    "scrolled": true
   },
   "outputs": [],
   "source": [
    "from gmr import GMM, plot_error_ellipses\n",
    "\n",
    "random_state = check_random_state(0)\n",
    "gmm = gmr.GMM(n_components=5, random_state=random_state)\n",
    "gmm.from_samples(X)\n",
    "plt.figure(figsize=(15, 5))\n",
    "plot_error_ellipses(plt.gca(), gmm, colors=[\"r\", \"g\", \"b\"])\n",
    "plt.scatter(X[:, 0], X[:, 1])\n",
    "\n"
   ]
  },
  {
   "cell_type": "code",
   "execution_count": null,
   "metadata": {
    "collapsed": false
   },
   "outputs": [],
   "source": [
    "sample = gmm.sample(300)\n",
    "plt.scatter(sample[:, 0], sample[:, 1], color='red')\n",
    "plt.scatter(X[:, 0], X[:, 1],0.3)\n",
    "\n"
   ]
  },
  {
   "cell_type": "code",
   "execution_count": null,
   "metadata": {
    "collapsed": false
   },
   "outputs": [],
   "source": [
    "gmm.to_probability_density(X)\n",
    "plt.plot(X[:,0],gmm.to_probability_density(X))\n"
   ]
  },
  {
   "cell_type": "code",
   "execution_count": null,
   "metadata": {
    "collapsed": true
   },
   "outputs": [],
   "source": [
    "gmm.to"
   ]
  }
 ],
 "metadata": {
  "kernelspec": {
   "display_name": "Python 2",
   "language": "python",
   "name": "python2"
  },
  "language_info": {
   "codemirror_mode": {
    "name": "ipython",
    "version": 2
   },
   "file_extension": ".py",
   "mimetype": "text/x-python",
   "name": "python",
   "nbconvert_exporter": "python",
   "pygments_lexer": "ipython2",
   "version": "2.7.10"
  }
 },
 "nbformat": 4,
 "nbformat_minor": 0
}
