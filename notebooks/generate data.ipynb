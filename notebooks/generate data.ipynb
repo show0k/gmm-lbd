{
 "cells": [
  {
   "cell_type": "code",
   "execution_count": 6,
   "metadata": {
    "collapsed": false
   },
   "outputs": [],
   "source": [
    "import matplotlib.pyplot as plt\n",
    "import numpy as np\n",
    "import scipy\n",
    "import itertools\n",
    "\n",
    "import numpy as np\n",
    "from scipy import linalg\n",
    "import matplotlib.pyplot as plt\n",
    "import matplotlib as mpl\n",
    "\n",
    "from sklearn import mixture\n",
    "\n",
    "%matplotlib inline\n"
   ]
  },
  {
   "cell_type": "code",
   "execution_count": 1,
   "metadata": {
    "collapsed": true
   },
   "outputs": [],
   "source": [
    "def plot_mean_and_sdt(t,dataset):\n",
    "    \n",
    "    sdt_dataset = []\n",
    "    mean_dataset = []\n",
    "    for i in range(len(t)):\n",
    "        sdt_dataset.append(np.std(dataset[:,i]))\n",
    "        mean_dataset.append(np.mean(dataset[:,i]))\n",
    "\n",
    "    Ytempmin =  np.array(mean_dataset) -np.array(sdt_dataset) \n",
    "    Ytempmax =  np.array(mean_dataset) +np.array(sdt_dataset) \n",
    "    plt.fill_between(t,Ytempmin,Ytempmax, alpha=0.3)\n",
    "    plt.plot(t,np.array(mean_dataset))\n",
    "    \n",
    "def make_ellipses(gmm, ax):\n",
    "    for n, color in enumerate('rgb'):\n",
    "        v, w = np.linalg.eigh(gmm._get_covars()[n][:2, :2])\n",
    "        u = w[0] / np.linalg.norm(w[0])\n",
    "        angle = np.arctan2(u[1], u[0])\n",
    "        angle = 180 * angle / np.pi  # convert to degrees\n",
    "        v *= 9\n",
    "        ell = mpl.patches.Ellipse(gmm.means_[n, :2], v[0], v[1],\n",
    "                                  180 + angle, color=color)\n",
    "        ell.set_clip_box(ax.bbox)\n",
    "        ell.set_alpha(0.5)\n",
    "        ax.add_artist(ell)\n",
    "        \n",
    "def draw_error_ellipses(gmm, ax):\n",
    "    color_iter = itertools.cycle(['r', 'g', 'b', 'c', 'm'])\n",
    "    for i, (mean, covar, color) in enumerate(zip(\n",
    "            gmm.means_, gmm._get_covars(), color_iter)):\n",
    "        v, w = linalg.eigh(covar)\n",
    "        u = w[0] / linalg.norm(w[0])\n",
    "        # as the DP will not use every component it has access to\n",
    "        # unless it needs it, we shouldn't plot the redundant\n",
    "        # components.\n",
    "        #if not np.any(Y_ == i):\n",
    "        #    continue\n",
    "        #plt.scatter(X[Y_ == i, 0], X[Y_ == i, 1], .8, color=color)\n",
    "        # Plot an ellipse to show the Gaussian component\n",
    "        angle = np.arctan(u[1] / u[0])\n",
    "        angle = 180 * angle / np.pi  # convert to degrees\n",
    "        ell = mpl.patches.Ellipse(mean, v[0], v[1], 180 + angle, color=color)\n",
    "        ell.set_clip_box(ax.bbox)\n",
    "        ell.set_alpha(0.5)\n",
    "        ax.add_artist(ell)\n",
    "\n",
    "    "
   ]
  },
  {
   "cell_type": "code",
   "execution_count": 13,
   "metadata": {
    "collapsed": false
   },
   "outputs": [],
   "source": [
    "\n",
    "class Sanitize_records_for_gmm(object):\n",
    "    \"\"\" Merge records data for gmm  \n",
    "    \"\"\"\n",
    "    def __init__(self,dimension=1):\n",
    "        self.times = []\n",
    "        self.dimension = dimension\n",
    "        self.positions = []\n",
    "        self._X = []\n",
    "        self.gmm = None\n",
    "        #self.__x_updated__ = False\n",
    "    def add_record(self,times,positions):\n",
    "        if len(times) != len(positions):\n",
    "            raise Exception(\"list must have same dimensions\")\n",
    "        # Dirty Sort\n",
    "        X1 = [i for i in zip (times,positions)]\n",
    "        X2 = [i for i in zip (self.times,self.positions)]\n",
    "        X =  sorted(X1+X2)\n",
    "        self.positions = []\n",
    "        self.times = []\n",
    "        for i in X:\n",
    "            self.times.append(i[0])\n",
    "            self.positions.append(i[1])\n",
    "    #def _gen_X(self):\n",
    "    #    self._XX = np.array([self.times,self.positions]).transpose()\n",
    "    \n",
    "    def to_array(self):\n",
    "        self._X = np.array([self.times,self.positions]).transpose()\n",
    "        return self._X\n",
    "    \n",
    "    def plot(self,ax=None):\n",
    "        X = self.to_array()\n",
    "        if ax is None:\n",
    "            plt.scatter(X[:,0],X[:,1])\n",
    "        else :\n",
    "            ax.scatter(X[:,0],X[:,1])\n",
    "    \n",
    "    def gen_gmm(self):\n",
    "        X = self.to_array()\n",
    "        title = 'Expectation-maximization'\n",
    "        self.gmm = mixture.GMM(n_components=4, covariance_type='full', n_iter=100)\n",
    "        self.gmm.fit(X)\n",
    "        return self.gmm\n",
    "    \n",
    "    def plot_gmm(self,ax=None):\n",
    "        color_iter = itertools.cycle(['r', 'g', 'b', 'c', 'm'])\n",
    "        self.gen_gmm()\n",
    "        Y_ = self.gmm.predict(self._X)\n",
    "        if ax is None:\n",
    "            ax = plt.subplot(1,1,1)\n",
    "\n",
    "        for i, (mean, covar, color) in enumerate(zip(\n",
    "                self.gmm.means_, self.gmm._get_covars(), color_iter)):\n",
    "                ## valeur propre, vecteur propre\n",
    "                v, w = linalg.eigh(covar)\n",
    "                u = w[0] / linalg.norm(w[0])\n",
    "                # as the DP will not use every component it has access to\n",
    "                # unless it needs it, we shouldn't plot the redundant\n",
    "                # components.\n",
    "                if not np.any(Y_ == i):\n",
    "                    continue\n",
    "                ax.scatter(self._X[Y_ == i, 0], self._X[Y_ == i, 1], .8, color=color)\n",
    "\n",
    "                # Plot an ellipse to show the Gaussian component\n",
    "                angle = np.arctan(u[1] / u[0])\n",
    "                angle = 180 * angle / np.pi  # convert to degrees\n",
    "                ell = mpl.patches.Ellipse(mean, v[0], v[1], 180 + angle, color=color)\n",
    "                ell.set_clip_box(ax.bbox)\n",
    "                ell.set_alpha(0.5)\n",
    "                ax.add_artist(ell)\n",
    "    \n",
    "    \n",
    "        \n",
    "    \n",
    "        \n",
    "    \n",
    "    "
   ]
  },
  {
   "cell_type": "code",
   "execution_count": 178,
   "metadata": {
    "collapsed": false
   },
   "outputs": [
    {
     "data": {
      "text/plain": [
       "array([ 0.])"
      ]
     },
     "execution_count": 178,
     "metadata": {},
     "output_type": "execute_result"
    },
    {
     "data": {
      "image/png": "[encoded data removed]",
      "text/plain": [
       "<matplotlib.figure.Figure at 0x7f54716ba2d0>"
      ]
     },
     "metadata": {},
     "output_type": "display_data"
    }
   ],
   "source": [
    "t1=[1,2,3,4]\n",
    "t2=[1.1,2.1,3.5,4.5]\n",
    "x1=[6,3,4.5,5]\n",
    "x2=[1,4,5,2]\n",
    "\n",
    "datas = Sanitize_records_for_gmm()\n",
    "datas.add_record(t1,x1)\n",
    "datas.add_record(t2,x2)\n",
    "datas.plot()\n",
    "X = np.zeros(1)\n",
    "X"
   ]
  },
  {
   "cell_type": "code",
   "execution_count": null,
   "metadata": {
    "collapsed": false
   },
   "outputs": [],
   "source": []
  },
  {
   "cell_type": "code",
   "execution_count": null,
   "metadata": {
    "collapsed": false
   },
   "outputs": [],
   "source": []
  },
  {
   "cell_type": "code",
   "execution_count": null,
   "metadata": {
    "collapsed": false
   },
   "outputs": [],
   "source": []
  },
  {
   "cell_type": "code",
   "execution_count": null,
   "metadata": {
    "collapsed": false
   },
   "outputs": [],
   "source": []
  },
  {
   "cell_type": "markdown",
   "metadata": {},
   "source": [
    "## 1 motor multiple demo of sinus"
   ]
  },
  {
   "cell_type": "code",
   "execution_count": 23,
   "metadata": {
    "collapsed": false
   },
   "outputs": [
    {
     "name": "stdout",
     "output_type": "stream",
     "text": [
      "[[  0.00000000e+00   0.00000000e+00]\n",
      " [  9.04197577e-02  -6.65334555e+01]\n",
      " [  1.00502513e-01   1.48772757e+00]\n",
      " ..., \n",
      " [  2.01316866e+01  -1.04806895e+02]\n",
      " [  2.01423028e+01  -1.04826914e+02]\n",
      " [  2.03995072e+01  -1.05186837e+02]]\n"
     ]
    },
    {
     "data": {
      "text/plain": [
       "[<matplotlib.lines.Line2D at 0x7f51ecb49250>]"
      ]
     },
     "execution_count": 23,
     "metadata": {},
     "output_type": "execute_result"
    },
    {
     "data": {
      "image/png": "[encoded data removed]",
      "text/plain": [
       "<matplotlib.figure.Figure at 0x7f51fcda2250>"
      ]
     },
     "metadata": {},
     "output_type": "display_data"
    }
   ],
   "source": [
    "# number of demos\n",
    "ndemo = 2\n",
    "\n",
    "# number of periods\n",
    "nperiod = np.pi/4\n",
    "\n",
    "# motor specific\n",
    "pmin = -60\n",
    "pmax = 60\n",
    "\n",
    "# record parameter\n",
    "framerate = 10\n",
    "tmin = 0\n",
    "tmax = 20\n",
    "\n",
    "# noise parameter\n",
    "noise_amplitude =  0.2*(pmax-pmin) #30\n",
    "noise_phase = np.pi/5#1.3\n",
    "noise_time = 0.7#0.5\n",
    "\n",
    "\n",
    "datas = Sanitize_records_for_gmm()\n",
    "\n",
    "\n",
    "def _rand():\n",
    "    return 2*(np.random.random(1)-1)\n",
    "\n",
    "t=np.linspace(tmin,tmax,(tmax-tmin)*framerate)\n",
    "y = ((pmax-pmin)/2)*np.sin(t*2*np.pi*nperiod/tmax) + (pmax+pmin)/2\n",
    "datas.add_record(t,y)\n",
    "mot_data = []\n",
    "for i in xrange(ndemo):\n",
    "    noisy_t =np.zeros(len(t))\n",
    "    for n in range(len(t)):\n",
    "        noisy_t[n] = t[n]+noise_time*np.random.random()\n",
    "    y_noisy = (noise_amplitude*_rand())+ ((pmax-pmin)/2)*np.sin((noisy_t*2*np.pi*nperiod/tmax)+noise_phase*_rand()) + (pmax+pmin)/2\n",
    "    mot_data.append(y_noisy)\n",
    "    datas.add_record(noisy_t,y_noisy)\n",
    "\n",
    "    #plt.plot(t,y_noisy)\n",
    "\n",
    "# mot = \n",
    "#f, axes = plt.subplots(ndemo, 1)\n",
    "\n",
    "#for i in range(ndemo):\n",
    "#    axes[i].plot(mot_data[i])\n",
    "\n",
    "datas.plot_gmm()\n",
    "print datas._X\n",
    "plt.plot(t,y,'--')\n",
    "\n",
    "\n",
    "#plot_mean_and_sdt(t,np.array(mot_data))\n"
   ]
  },
  {
   "cell_type": "code",
   "execution_count": 7,
   "metadata": {
    "collapsed": false
   },
   "outputs": [
    {
     "data": {
      "image/png": "[encoded data removed]",
      "text/plain": [
       "<matplotlib.figure.Figure at 0x7f36ec76fe50>"
      ]
     },
     "metadata": {},
     "output_type": "display_data"
    }
   ],
   "source": [
    "plot_mean_and_sdt(t,np.array(mot_data))\n"
   ]
  },
  {
   "cell_type": "code",
   "execution_count": null,
   "metadata": {
    "collapsed": false
   },
   "outputs": [],
   "source": []
  },
  {
   "cell_type": "code",
   "execution_count": null,
   "metadata": {
    "collapsed": false
   },
   "outputs": [],
   "source": []
  },
  {
   "cell_type": "code",
   "execution_count": 8,
   "metadata": {
    "collapsed": false
   },
   "outputs": [],
   "source": []
  },
  {
   "cell_type": "code",
   "execution_count": 10,
   "metadata": {
    "collapsed": false
   },
   "outputs": [
    {
     "data": {
      "text/plain": [
       "sklearn.mixture.gmm.GMM"
      ]
     },
     "execution_count": 10,
     "metadata": {},
     "output_type": "execute_result"
    }
   ],
   "source": []
  },
  {
   "cell_type": "code",
   "execution_count": null,
   "metadata": {
    "collapsed": false
   },
   "outputs": [],
   "source": []
  },
  {
   "cell_type": "code",
   "execution_count": null,
   "metadata": {
    "collapsed": false
   },
   "outputs": [],
   "source": [
    "\n",
    "\n"
   ]
  },
  {
   "cell_type": "code",
   "execution_count": 182,
   "metadata": {
    "collapsed": false
   },
   "outputs": [],
   "source": [
    "\n",
    "#from sklearn.externals.six.moves import xrange\n",
    "\n",
    "# Number of samples per component\n",
    "n_samples = 70\n",
    "\n",
    "# Generate random sample following a sine curve\n",
    "np.random.seed(0)\n",
    "X = np.zeros((n_samples, 2))\n",
    "\n",
    "step = 4 * np.pi / n_samples\n",
    "\n",
    "for i in xrange(X.shape[0]):\n",
    "    x = i * step - 6\n",
    "    X[i, 0] = x + np.random.normal(0, 0.1)\n",
    "    X[i, 1] = 3 * (np.sin(x) + np.random.normal(0, .2))\n",
    "\n"
   ]
  },
  {
   "cell_type": "code",
   "execution_count": 17,
   "metadata": {
    "collapsed": false
   },
   "outputs": [
    {
     "data": {
      "image/png": "[encoded data removed]",
      "text/plain": [
       "<matplotlib.figure.Figure at 0x7f1492ab5e50>"
      ]
     },
     "metadata": {},
     "output_type": "display_data"
    },
    {
     "data": {
      "image/png": "[encoded data removed]",
      "text/plain": [
       "<matplotlib.figure.Figure at 0x7f14928a1510>"
      ]
     },
     "metadata": {},
     "output_type": "display_data"
    },
    {
     "name": "stderr",
     "output_type": "stream",
     "text": [
      "/usr/local/lib/python2.7/dist-packages/IPython/kernel/__main__.py:30: RuntimeWarning: divide by zero encountered in double_scalars\n"
     ]
    },
    {
     "data": {
      "image/png": "[encoded data removed]",
      "text/plain": [
       "<matplotlib.figure.Figure at 0x7f1492908610>"
      ]
     },
     "metadata": {},
     "output_type": "display_data"
    },
    {
     "data": {
      "image/png": "[encoded data removed]",
      "text/plain": [
       "<matplotlib.figure.Figure at 0x7f14a8b03fd0>"
      ]
     },
     "metadata": {},
     "output_type": "display_data"
    }
   ],
   "source": [
    "color_iter = itertools.cycle(['r', 'g', 'b', 'c', 'm'])\n",
    "\n",
    "\n",
    "for i, (clf, title) in enumerate([\n",
    "        (mixture.GMM(n_components=1, covariance_type='full', n_iter=100),\n",
    "         \"Expectation-maximization\"),\n",
    "        (mixture.DPGMM(n_components=10, covariance_type='full', alpha=0.01,\n",
    "                       n_iter=100),\n",
    "         \"Dirichlet Process,alpha=0.01\"),\n",
    "        (mixture.DPGMM(n_components=10, covariance_type='diag', alpha=100.,\n",
    "                       n_iter=100),\n",
    "         \"Dirichlet Process,alpha=100.\"),\n",
    "        (mixture.VBGMM(n_components=1, covariance_type='diag',n_iter=100),\n",
    "         \"Variational Inference for the Gaussian Mixture Model\")]):\n",
    "    \n",
    "    clf.fit(X)\n",
    "    splot = plt.subplot(4, 1, 1 + i)\n",
    "    Y_ = clf.predict(X)\n",
    "    for i, (mean, covar, color) in enumerate(zip(\n",
    "            clf.means_, clf._get_covars(), color_iter)):\n",
    "        v, w = linalg.eigh(covar)\n",
    "        u = w[0] / linalg.norm(w[0])\n",
    "        # as the DP will not use every component it has access to\n",
    "        # unless it needs it, we shouldn't plot the redundant\n",
    "        # components.\n",
    "        if not np.any(Y_ == i):\n",
    "            continue\n",
    "        plt.scatter(X[Y_ == i, 0], X[Y_ == i, 1], .8, color=color)\n",
    "        # Plot an ellipse to show the Gaussian component\n",
    "        angle = np.arctan(u[1] / u[0])\n",
    "        angle = 180 * angle / np.pi  # convert to degrees\n",
    "        ell = mpl.patches.Ellipse(mean, v[0], v[1], 180 + angle, color=color)\n",
    "        ell.set_clip_box(splot.bbox)\n",
    "        ell.set_alpha(0.5)\n",
    "        splot.add_artist(ell)\n",
    "\n",
    "\n",
    "    plt.xlim(-6, 4 * np.pi - 6)\n",
    "    plt.ylim(-5, 5)\n",
    "    plt.title(title)\n",
    "    plt.xticks(())\n",
    "    plt.yticks(())\n",
    "    \n",
    "    plt.show()"
   ]
  },
  {
   "cell_type": "code",
   "execution_count": null,
   "metadata": {
    "collapsed": false
   },
   "outputs": [],
   "source": []
  },
  {
   "cell_type": "code",
   "execution_count": 186,
   "metadata": {
    "collapsed": false
   },
   "outputs": [
    {
     "data": {
      "text/plain": [
       "([], <a list of 0 Text yticklabel objects>)"
      ]
     },
     "execution_count": 186,
     "metadata": {},
     "output_type": "execute_result"
    },
    {
     "data": {
      "image/png": "[encoded data removed]",
      "text/plain": [
       "<matplotlib.figure.Figure at 0x7f5471b0b810>"
      ]
     },
     "metadata": {},
     "output_type": "display_data"
    }
   ],
   "source": [
    "color_iter = itertools.cycle(['r', 'g', 'b', 'c', 'm'])\n",
    "\n",
    "title = 'Expectation-maximization'\n",
    "clf = mixture.VBGMM(n_components=4, covariance_type='full', n_iter=100)\n",
    "clf.fit(X)\n",
    "Y_ = clf.predict(X)\n",
    "splot = plt.subplot(1,1,1)\n",
    "\n",
    "for i, (mean, covar, color) in enumerate(zip(\n",
    "            clf.means_, clf._get_covars(), color_iter)):\n",
    "        ## valeur propre, vecteur propre\n",
    "        v, w = linalg.eigh(covar)\n",
    "        u = w[0] / linalg.norm(w[0])\n",
    "        # as the DP will not use every component it has access to\n",
    "        # unless it needs it, we shouldn't plot the redundant\n",
    "        # components.\n",
    "        if not np.any(Y_ == i):\n",
    "            continue\n",
    "        plt.scatter(X[Y_ == i, 0], X[Y_ == i, 1], .8, color=color)\n",
    "\n",
    "        # Plot an ellipse to show the Gaussian component\n",
    "        angle = np.arctan(u[1] / u[0])\n",
    "        angle = 180 * angle / np.pi  # convert to degrees\n",
    "        ell = mpl.patches.Ellipse(mean, v[0], v[1], 180 + angle, color=color)\n",
    "        ell.set_clip_box(splot.bbox)\n",
    "        ell.set_alpha(0.5)\n",
    "        splot.add_artist(ell)\n",
    "\n",
    "plt.xlim(-6, 4 * np.pi - 6)\n",
    "plt.ylim(-5, 5)\n",
    "plt.title(title)\n",
    "plt.xticks(())\n",
    "plt.yticks(())\n",
    " \n",
    "\n"
   ]
  },
  {
   "cell_type": "code",
   "execution_count": 24,
   "metadata": {
    "collapsed": false
   },
   "outputs": [
    {
     "data": {
      "text/plain": [
       "array([2, 2, 2, 2, 2, 2, 2, 2, 2, 2, 2, 2, 2, 2, 2, 2, 2, 2, 2, 2, 2, 2, 2,\n",
       "       2, 2, 2, 2, 2, 2, 2, 2, 2, 2, 1, 1, 1, 1, 1, 1, 1, 1, 1, 1, 1, 1, 1,\n",
       "       1, 1, 1, 1, 1, 1, 1, 1, 1, 1, 1, 1, 1, 1, 1, 1, 1, 1, 1, 1, 1, 1, 1,\n",
       "       1])"
      ]
     },
     "execution_count": 24,
     "metadata": {},
     "output_type": "execute_result"
    }
   ],
   "source": [
    "Y_"
   ]
  }
 ],
 "metadata": {
  "kernelspec": {
   "display_name": "Python 2",
   "language": "python",
   "name": "python2"
  },
  "language_info": {
   "codemirror_mode": {
    "name": "ipython",
    "version": 2
   },
   "file_extension": ".py",
   "mimetype": "text/x-python",
   "name": "python",
   "nbconvert_exporter": "python",
   "pygments_lexer": "ipython2",
   "version": "2.7.6"
  }
 },
 "nbformat": 4,
 "nbformat_minor": 0
}
